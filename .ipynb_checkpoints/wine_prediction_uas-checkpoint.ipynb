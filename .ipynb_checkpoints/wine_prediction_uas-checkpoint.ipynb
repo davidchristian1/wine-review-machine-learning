{
 "cells": [
  {
   "cell_type": "markdown",
   "metadata": {},
   "source": [
    "<h1 align=\"center\">Wine Prediction</h1>\n",
    "\n",
    "<div align=\"center\"><img src=\"https://static01.nyt.com/images/2020/01/30/dining/30pour/30pour-superJumbo.jpg?quality=90&auto=webp\" width=60%></div>\n",
    "<h1 align=\"center\"></h1>\n",
    "<div style=\"text-align: justify\">&emsp;&emsp;Wine merupakan sebuah minuman beralkohol yang dikonsumsi oleh kalangan menengah keatas. Wine tersebut memiliki rasa yang berbeda-beda dengan harga yang berbeda pula. Oleh karena itu mari kita mencoba membuat beberapa machine learning untuk memprediksi harga dari data yang ada. Tapi sebelumnya, mari kita melakukan Exploratory Data Analisis</div>"
   ]
  },
  {
   "cell_type": "code",
   "execution_count": 60,
   "metadata": {},
   "outputs": [],
   "source": [
    "import pandas as pd\n",
    "import numpy as np\n",
    "import matplotlib.pyplot as plt\n",
    "import seaborn as sns\n",
    "import statsmodels.api as sm\n",
    "from scipy.sparse import hstack\n",
    "from sklearn.linear_model import LinearRegression\n",
    "from sklearn.linear_model import LogisticRegression\n",
    "from xgboost import XGBClassifier\n",
    "from sklearn.metrics import accuracy_score\n",
    "from sklearn import preprocessing\n",
    "from sklearn.feature_extraction.text import CountVectorizer\n",
    "from scipy.stats import pearsonr\n",
    "from sklearn.model_selection import train_test_split\n",
    "from nltk.corpus import stopwords"
   ]
  },
  {
   "cell_type": "markdown",
   "metadata": {},
   "source": [
    "<div style=\"text-align: justify\">&emsp;&emsp;Pertama-tama, mari kita mencari korelasi antara beberapa variabel. Kita memerlukan beberapa variabel yang mempengaruhi data harga dari wine yang beredar di pasaran. Sebelum melakukan itu, mari kita mengimport data dan mengencode beberapa kategori yang dibutuhkan menjadi angka.</div>"
   ]
  },
  {
   "cell_type": "code",
   "execution_count": 61,
   "metadata": {},
   "outputs": [
    {
     "data": {
      "text/html": [
       "<div>\n",
       "<style scoped>\n",
       "    .dataframe tbody tr th:only-of-type {\n",
       "        vertical-align: middle;\n",
       "    }\n",
       "\n",
       "    .dataframe tbody tr th {\n",
       "        vertical-align: top;\n",
       "    }\n",
       "\n",
       "    .dataframe thead th {\n",
       "        text-align: right;\n",
       "    }\n",
       "</style>\n",
       "<table border=\"1\" class=\"dataframe\">\n",
       "  <thead>\n",
       "    <tr style=\"text-align: right;\">\n",
       "      <th></th>\n",
       "      <th>country</th>\n",
       "      <th>points</th>\n",
       "      <th>price</th>\n",
       "      <th>province</th>\n",
       "      <th>variety</th>\n",
       "      <th>winery</th>\n",
       "      <th>taster_name</th>\n",
       "      <th>description</th>\n",
       "    </tr>\n",
       "  </thead>\n",
       "  <tbody>\n",
       "    <tr>\n",
       "      <th>0</th>\n",
       "      <td>Italy</td>\n",
       "      <td>87</td>\n",
       "      <td>NaN</td>\n",
       "      <td>Sicily &amp; Sardinia</td>\n",
       "      <td>White Blend</td>\n",
       "      <td>Nicosia</td>\n",
       "      <td>Kerin O’Keefe</td>\n",
       "      <td>Aromas include tropical fruit, broom, brimston...</td>\n",
       "    </tr>\n",
       "    <tr>\n",
       "      <th>1</th>\n",
       "      <td>Portugal</td>\n",
       "      <td>87</td>\n",
       "      <td>15.0</td>\n",
       "      <td>Douro</td>\n",
       "      <td>Portuguese Red</td>\n",
       "      <td>Quinta dos Avidagos</td>\n",
       "      <td>Roger Voss</td>\n",
       "      <td>This is ripe and fruity, a wine that is smooth...</td>\n",
       "    </tr>\n",
       "    <tr>\n",
       "      <th>2</th>\n",
       "      <td>US</td>\n",
       "      <td>87</td>\n",
       "      <td>14.0</td>\n",
       "      <td>Oregon</td>\n",
       "      <td>Pinot Gris</td>\n",
       "      <td>Rainstorm</td>\n",
       "      <td>Paul Gregutt</td>\n",
       "      <td>Tart and snappy, the flavors of lime flesh and...</td>\n",
       "    </tr>\n",
       "    <tr>\n",
       "      <th>3</th>\n",
       "      <td>US</td>\n",
       "      <td>87</td>\n",
       "      <td>13.0</td>\n",
       "      <td>Michigan</td>\n",
       "      <td>Riesling</td>\n",
       "      <td>St. Julian</td>\n",
       "      <td>Alexander Peartree</td>\n",
       "      <td>Pineapple rind, lemon pith and orange blossom ...</td>\n",
       "    </tr>\n",
       "    <tr>\n",
       "      <th>4</th>\n",
       "      <td>US</td>\n",
       "      <td>87</td>\n",
       "      <td>65.0</td>\n",
       "      <td>Oregon</td>\n",
       "      <td>Pinot Noir</td>\n",
       "      <td>Sweet Cheeks</td>\n",
       "      <td>Paul Gregutt</td>\n",
       "      <td>Much like the regular bottling from 2012, this...</td>\n",
       "    </tr>\n",
       "    <tr>\n",
       "      <th>5</th>\n",
       "      <td>Spain</td>\n",
       "      <td>87</td>\n",
       "      <td>15.0</td>\n",
       "      <td>Northern Spain</td>\n",
       "      <td>Tempranillo-Merlot</td>\n",
       "      <td>Tandem</td>\n",
       "      <td>Michael Schachner</td>\n",
       "      <td>Blackberry and raspberry aromas show a typical...</td>\n",
       "    </tr>\n",
       "    <tr>\n",
       "      <th>6</th>\n",
       "      <td>Italy</td>\n",
       "      <td>87</td>\n",
       "      <td>16.0</td>\n",
       "      <td>Sicily &amp; Sardinia</td>\n",
       "      <td>Frappato</td>\n",
       "      <td>Terre di Giurfo</td>\n",
       "      <td>Kerin O’Keefe</td>\n",
       "      <td>Here's a bright, informal red that opens with ...</td>\n",
       "    </tr>\n",
       "    <tr>\n",
       "      <th>7</th>\n",
       "      <td>France</td>\n",
       "      <td>87</td>\n",
       "      <td>24.0</td>\n",
       "      <td>Alsace</td>\n",
       "      <td>Gewürztraminer</td>\n",
       "      <td>Trimbach</td>\n",
       "      <td>Roger Voss</td>\n",
       "      <td>This dry and restrained wine offers spice in p...</td>\n",
       "    </tr>\n",
       "    <tr>\n",
       "      <th>8</th>\n",
       "      <td>Germany</td>\n",
       "      <td>87</td>\n",
       "      <td>12.0</td>\n",
       "      <td>Rheinhessen</td>\n",
       "      <td>Gewürztraminer</td>\n",
       "      <td>Heinz Eifel</td>\n",
       "      <td>Anna Lee C. Iijima</td>\n",
       "      <td>Savory dried thyme notes accent sunnier flavor...</td>\n",
       "    </tr>\n",
       "    <tr>\n",
       "      <th>9</th>\n",
       "      <td>France</td>\n",
       "      <td>87</td>\n",
       "      <td>27.0</td>\n",
       "      <td>Alsace</td>\n",
       "      <td>Pinot Gris</td>\n",
       "      <td>Jean-Baptiste Adam</td>\n",
       "      <td>Roger Voss</td>\n",
       "      <td>This has great depth of flavor with its fresh ...</td>\n",
       "    </tr>\n",
       "  </tbody>\n",
       "</table>\n",
       "</div>"
      ],
      "text/plain": [
       "    country  points  price           province             variety  \\\n",
       "0     Italy      87    NaN  Sicily & Sardinia         White Blend   \n",
       "1  Portugal      87   15.0              Douro      Portuguese Red   \n",
       "2        US      87   14.0             Oregon          Pinot Gris   \n",
       "3        US      87   13.0           Michigan            Riesling   \n",
       "4        US      87   65.0             Oregon          Pinot Noir   \n",
       "5     Spain      87   15.0     Northern Spain  Tempranillo-Merlot   \n",
       "6     Italy      87   16.0  Sicily & Sardinia            Frappato   \n",
       "7    France      87   24.0             Alsace      Gewürztraminer   \n",
       "8   Germany      87   12.0        Rheinhessen      Gewürztraminer   \n",
       "9    France      87   27.0             Alsace          Pinot Gris   \n",
       "\n",
       "                winery         taster_name  \\\n",
       "0              Nicosia       Kerin O’Keefe   \n",
       "1  Quinta dos Avidagos          Roger Voss   \n",
       "2            Rainstorm        Paul Gregutt   \n",
       "3           St. Julian  Alexander Peartree   \n",
       "4         Sweet Cheeks        Paul Gregutt   \n",
       "5               Tandem   Michael Schachner   \n",
       "6      Terre di Giurfo       Kerin O’Keefe   \n",
       "7             Trimbach          Roger Voss   \n",
       "8          Heinz Eifel  Anna Lee C. Iijima   \n",
       "9   Jean-Baptiste Adam          Roger Voss   \n",
       "\n",
       "                                         description  \n",
       "0  Aromas include tropical fruit, broom, brimston...  \n",
       "1  This is ripe and fruity, a wine that is smooth...  \n",
       "2  Tart and snappy, the flavors of lime flesh and...  \n",
       "3  Pineapple rind, lemon pith and orange blossom ...  \n",
       "4  Much like the regular bottling from 2012, this...  \n",
       "5  Blackberry and raspberry aromas show a typical...  \n",
       "6  Here's a bright, informal red that opens with ...  \n",
       "7  This dry and restrained wine offers spice in p...  \n",
       "8  Savory dried thyme notes accent sunnier flavor...  \n",
       "9  This has great depth of flavor with its fresh ...  "
      ]
     },
     "execution_count": 61,
     "metadata": {},
     "output_type": "execute_result"
    }
   ],
   "source": [
    "wineDFRaw = pd.read_csv('winemag-data-130k-v2.csv', index_col=0)\n",
    "wineDF = wineDFRaw[['country','points', 'price', 'province', 'variety', 'winery', 'taster_name', 'description']]\n",
    "wineDF.head(10)"
   ]
  },
  {
   "cell_type": "code",
   "execution_count": 62,
   "metadata": {},
   "outputs": [
    {
     "name": "stdout",
     "output_type": "stream",
     "text": [
      "<class 'pandas.core.frame.DataFrame'>\n",
      "Int64Index: 129971 entries, 0 to 129970\n",
      "Data columns (total 8 columns):\n",
      " #   Column       Non-Null Count   Dtype  \n",
      "---  ------       --------------   -----  \n",
      " 0   country      129908 non-null  object \n",
      " 1   points       129971 non-null  int64  \n",
      " 2   price        120975 non-null  float64\n",
      " 3   province     129908 non-null  object \n",
      " 4   variety      129970 non-null  object \n",
      " 5   winery       129971 non-null  object \n",
      " 6   taster_name  103727 non-null  object \n",
      " 7   description  129971 non-null  object \n",
      "dtypes: float64(1), int64(1), object(6)\n",
      "memory usage: 8.9+ MB\n"
     ]
    }
   ],
   "source": [
    "wineDF.info()"
   ]
  },
  {
   "cell_type": "markdown",
   "metadata": {},
   "source": [
    "<div style=\"text-align: justify\">&emsp;&emsp;Berhubung dalam komentar kernel author diberi tahu bahwa ada beberapa jenis buah yang menggunakan bahasa German, Spanyol, Italia, dan Portugis, maka lebih baik kita mengkonversinya terlebih dahulu agar dataset menjadi lebih akurat. Selain itu, kita harus drop row yang memiliki nilai NaN agar data menjadi lebih \"bersih\"</div>"
   ]
  },
  {
   "cell_type": "code",
   "execution_count": 63,
   "metadata": {},
   "outputs": [
    {
     "name": "stderr",
     "output_type": "stream",
     "text": [
      "/opt/conda/lib/python3.7/site-packages/pandas/core/indexing.py:965: SettingWithCopyWarning: \n",
      "A value is trying to be set on a copy of a slice from a DataFrame.\n",
      "Try using .loc[row_indexer,col_indexer] = value instead\n",
      "\n",
      "See the caveats in the documentation: https://pandas.pydata.org/pandas-docs/stable/user_guide/indexing.html#returning-a-view-versus-a-copy\n",
      "  self.obj[item] = s\n"
     ]
    }
   ],
   "source": [
    "wineDF.loc[:, 'variety'] = wineDF.loc[:, 'variety'].replace(['weissburgunder'], 'chardonnay')\n",
    "wineDF.loc[:, 'variety'] = wineDF.loc[:, 'variety'].replace(['spatburgunder'], 'pinot noir')\n",
    "wineDF.loc[:, 'variety'] = wineDF.loc[:, 'variety'].replace(['grauburgunder'], 'pinot gris')\n",
    "wineDF.loc[:, 'variety'] = wineDF.loc[:, 'variety'].replace(['garnacha'], 'grenache')\n",
    "wineDF.loc[:, 'variety'] = wineDF.loc[:, 'variety'].replace(['pinot nero'], 'pinot noir')\n",
    "wineDF.loc[:, 'variety'] = wineDF.loc[:, 'variety'].replace(['alvarinho'], 'albarino')"
   ]
  },
  {
   "cell_type": "code",
   "execution_count": 64,
   "metadata": {},
   "outputs": [
    {
     "data": {
      "text/html": [
       "<div>\n",
       "<style scoped>\n",
       "    .dataframe tbody tr th:only-of-type {\n",
       "        vertical-align: middle;\n",
       "    }\n",
       "\n",
       "    .dataframe tbody tr th {\n",
       "        vertical-align: top;\n",
       "    }\n",
       "\n",
       "    .dataframe thead th {\n",
       "        text-align: right;\n",
       "    }\n",
       "</style>\n",
       "<table border=\"1\" class=\"dataframe\">\n",
       "  <thead>\n",
       "    <tr style=\"text-align: right;\">\n",
       "      <th></th>\n",
       "      <th>country</th>\n",
       "      <th>points</th>\n",
       "      <th>price</th>\n",
       "      <th>province</th>\n",
       "      <th>variety</th>\n",
       "      <th>winery</th>\n",
       "      <th>taster_name</th>\n",
       "      <th>description</th>\n",
       "    </tr>\n",
       "  </thead>\n",
       "  <tbody>\n",
       "    <tr>\n",
       "      <th>1</th>\n",
       "      <td>Portugal</td>\n",
       "      <td>87</td>\n",
       "      <td>15.0</td>\n",
       "      <td>Douro</td>\n",
       "      <td>Portuguese Red</td>\n",
       "      <td>Quinta dos Avidagos</td>\n",
       "      <td>Roger Voss</td>\n",
       "      <td>This is ripe and fruity, a wine that is smooth...</td>\n",
       "    </tr>\n",
       "    <tr>\n",
       "      <th>2</th>\n",
       "      <td>US</td>\n",
       "      <td>87</td>\n",
       "      <td>14.0</td>\n",
       "      <td>Oregon</td>\n",
       "      <td>Pinot Gris</td>\n",
       "      <td>Rainstorm</td>\n",
       "      <td>Paul Gregutt</td>\n",
       "      <td>Tart and snappy, the flavors of lime flesh and...</td>\n",
       "    </tr>\n",
       "    <tr>\n",
       "      <th>3</th>\n",
       "      <td>US</td>\n",
       "      <td>87</td>\n",
       "      <td>13.0</td>\n",
       "      <td>Michigan</td>\n",
       "      <td>Riesling</td>\n",
       "      <td>St. Julian</td>\n",
       "      <td>Alexander Peartree</td>\n",
       "      <td>Pineapple rind, lemon pith and orange blossom ...</td>\n",
       "    </tr>\n",
       "    <tr>\n",
       "      <th>4</th>\n",
       "      <td>US</td>\n",
       "      <td>87</td>\n",
       "      <td>65.0</td>\n",
       "      <td>Oregon</td>\n",
       "      <td>Pinot Noir</td>\n",
       "      <td>Sweet Cheeks</td>\n",
       "      <td>Paul Gregutt</td>\n",
       "      <td>Much like the regular bottling from 2012, this...</td>\n",
       "    </tr>\n",
       "    <tr>\n",
       "      <th>5</th>\n",
       "      <td>Spain</td>\n",
       "      <td>87</td>\n",
       "      <td>15.0</td>\n",
       "      <td>Northern Spain</td>\n",
       "      <td>Tempranillo-Merlot</td>\n",
       "      <td>Tandem</td>\n",
       "      <td>Michael Schachner</td>\n",
       "      <td>Blackberry and raspberry aromas show a typical...</td>\n",
       "    </tr>\n",
       "  </tbody>\n",
       "</table>\n",
       "</div>"
      ],
      "text/plain": [
       "    country  points  price        province             variety  \\\n",
       "1  Portugal      87   15.0           Douro      Portuguese Red   \n",
       "2        US      87   14.0          Oregon          Pinot Gris   \n",
       "3        US      87   13.0        Michigan            Riesling   \n",
       "4        US      87   65.0          Oregon          Pinot Noir   \n",
       "5     Spain      87   15.0  Northern Spain  Tempranillo-Merlot   \n",
       "\n",
       "                winery         taster_name  \\\n",
       "1  Quinta dos Avidagos          Roger Voss   \n",
       "2            Rainstorm        Paul Gregutt   \n",
       "3           St. Julian  Alexander Peartree   \n",
       "4         Sweet Cheeks        Paul Gregutt   \n",
       "5               Tandem   Michael Schachner   \n",
       "\n",
       "                                         description  \n",
       "1  This is ripe and fruity, a wine that is smooth...  \n",
       "2  Tart and snappy, the flavors of lime flesh and...  \n",
       "3  Pineapple rind, lemon pith and orange blossom ...  \n",
       "4  Much like the regular bottling from 2012, this...  \n",
       "5  Blackberry and raspberry aromas show a typical...  "
      ]
     },
     "execution_count": 64,
     "metadata": {},
     "output_type": "execute_result"
    }
   ],
   "source": [
    "wineDF = wineDF.dropna()\n",
    "wineDF.head()"
   ]
  },
  {
   "cell_type": "code",
   "execution_count": 65,
   "metadata": {},
   "outputs": [
    {
     "name": "stdout",
     "output_type": "stream",
     "text": [
      "<class 'pandas.core.frame.DataFrame'>\n",
      "Int64Index: 96420 entries, 1 to 129970\n",
      "Data columns (total 8 columns):\n",
      " #   Column       Non-Null Count  Dtype  \n",
      "---  ------       --------------  -----  \n",
      " 0   country      96420 non-null  object \n",
      " 1   points       96420 non-null  int64  \n",
      " 2   price        96420 non-null  float64\n",
      " 3   province     96420 non-null  object \n",
      " 4   variety      96420 non-null  object \n",
      " 5   winery       96420 non-null  object \n",
      " 6   taster_name  96420 non-null  object \n",
      " 7   description  96420 non-null  object \n",
      "dtypes: float64(1), int64(1), object(6)\n",
      "memory usage: 6.6+ MB\n"
     ]
    }
   ],
   "source": [
    "wineDF.info()"
   ]
  },
  {
   "cell_type": "markdown",
   "metadata": {},
   "source": [
    "<div style=\"text-align: justify\">Sekarang mari kita melakukan beberapa Exploratory Data Analisis.</div>"
   ]
  },
  {
   "cell_type": "code",
   "execution_count": 66,
   "metadata": {},
   "outputs": [
    {
     "data": {
      "text/html": [
       "<div>\n",
       "<style scoped>\n",
       "    .dataframe tbody tr th:only-of-type {\n",
       "        vertical-align: middle;\n",
       "    }\n",
       "\n",
       "    .dataframe tbody tr th {\n",
       "        vertical-align: top;\n",
       "    }\n",
       "\n",
       "    .dataframe thead th {\n",
       "        text-align: right;\n",
       "    }\n",
       "</style>\n",
       "<table border=\"1\" class=\"dataframe\">\n",
       "  <thead>\n",
       "    <tr style=\"text-align: right;\">\n",
       "      <th></th>\n",
       "      <th>points</th>\n",
       "      <th>price</th>\n",
       "    </tr>\n",
       "  </thead>\n",
       "  <tbody>\n",
       "    <tr>\n",
       "      <th>count</th>\n",
       "      <td>96420.000000</td>\n",
       "      <td>96420.000000</td>\n",
       "    </tr>\n",
       "    <tr>\n",
       "      <th>mean</th>\n",
       "      <td>88.585625</td>\n",
       "      <td>35.005009</td>\n",
       "    </tr>\n",
       "    <tr>\n",
       "      <th>std</th>\n",
       "      <td>2.951817</td>\n",
       "      <td>43.069060</td>\n",
       "    </tr>\n",
       "    <tr>\n",
       "      <th>min</th>\n",
       "      <td>80.000000</td>\n",
       "      <td>4.000000</td>\n",
       "    </tr>\n",
       "    <tr>\n",
       "      <th>25%</th>\n",
       "      <td>87.000000</td>\n",
       "      <td>17.000000</td>\n",
       "    </tr>\n",
       "    <tr>\n",
       "      <th>50%</th>\n",
       "      <td>88.000000</td>\n",
       "      <td>25.000000</td>\n",
       "    </tr>\n",
       "    <tr>\n",
       "      <th>75%</th>\n",
       "      <td>91.000000</td>\n",
       "      <td>40.000000</td>\n",
       "    </tr>\n",
       "    <tr>\n",
       "      <th>max</th>\n",
       "      <td>100.000000</td>\n",
       "      <td>3300.000000</td>\n",
       "    </tr>\n",
       "  </tbody>\n",
       "</table>\n",
       "</div>"
      ],
      "text/plain": [
       "             points         price\n",
       "count  96420.000000  96420.000000\n",
       "mean      88.585625     35.005009\n",
       "std        2.951817     43.069060\n",
       "min       80.000000      4.000000\n",
       "25%       87.000000     17.000000\n",
       "50%       88.000000     25.000000\n",
       "75%       91.000000     40.000000\n",
       "max      100.000000   3300.000000"
      ]
     },
     "execution_count": 66,
     "metadata": {},
     "output_type": "execute_result"
    }
   ],
   "source": [
    "wineDF[['points','price']].describe()"
   ]
  },
  {
   "cell_type": "code",
   "execution_count": 67,
   "metadata": {},
   "outputs": [
    {
     "data": {
      "text/plain": [
       "<matplotlib.axes._subplots.AxesSubplot at 0x7f30e7150c50>"
      ]
     },
     "execution_count": 67,
     "metadata": {},
     "output_type": "execute_result"
    },
    {
     "data": {
      "image/png": "[encoded data removed]",
      "text/plain": [
       "<Figure size 432x288 with 1 Axes>"
      ]
     },
     "metadata": {},
     "output_type": "display_data"
    }
   ],
   "source": [
    "plt.style.use('fivethirtyeight')\n",
    "sns.regplot(wineDF['points'], wineDF['price'])"
   ]
  },
  {
   "cell_type": "code",
   "execution_count": 68,
   "metadata": {},
   "outputs": [
    {
     "data": {
      "image/png": "[encoded data removed]",
      "text/plain": [
       "<Figure size 864x504 with 1 Axes>"
      ]
     },
     "metadata": {},
     "output_type": "display_data"
    }
   ],
   "source": [
    "g = sns.catplot(x='country', data=wineDF, kind='count', order=pd.value_counts(wineDF['country']).iloc[:10].index, palette= 'ocean')\n",
    "g.ax.set_title('Top 10 Country Dengan Produksi Wine Terbanyak')\n",
    "g.set(xlabel= 'Country', ylabel='Jumlah Produksi Wine')\n",
    "g.fig.set_size_inches([12,7])\n",
    "g.set_xticklabels(rotation=45)\n",
    "for p in g.ax.patches:\n",
    "    g.ax.annotate('{:.0f}'.format(p.get_height()), (p.get_x()+0.13, p.get_height()+500))\n",
    "plt.tight_layout()"
   ]
  },
  {
   "cell_type": "code",
   "execution_count": 69,
   "metadata": {},
   "outputs": [
    {
     "data": {
      "image/png": "[encoded data removed]",
      "text/plain": [
       "<Figure size 1440x504 with 1 Axes>"
      ]
     },
     "metadata": {},
     "output_type": "display_data"
    }
   ],
   "source": [
    "g = sns.catplot(y='variety', data=wineDF, kind='count', order=pd.value_counts(wineDF['variety']).iloc[:10].index, palette= 'winter')\n",
    "g.ax.set_title('Top 10 Jenis Anggur yang Digunakan')\n",
    "g.set(xlabel= 'Jenis Buah Anggur', ylabel='Jumlah Produksi Wine')\n",
    "g.fig.set_size_inches([20,7])\n",
    "for p in g.ax.patches:\n",
    "    width = p.get_width()\n",
    "    plt.text(400+p.get_width(), p.get_y()+0.55*p.get_height(),\n",
    "             '{:.0f}'.format(width),\n",
    "             ha='center', va='center')\n",
    "plt.tight_layout()"
   ]
  },
  {
   "cell_type": "code",
   "execution_count": 70,
   "metadata": {},
   "outputs": [
    {
     "data": {
      "text/html": [
       "<div>\n",
       "<style scoped>\n",
       "    .dataframe tbody tr th:only-of-type {\n",
       "        vertical-align: middle;\n",
       "    }\n",
       "\n",
       "    .dataframe tbody tr th {\n",
       "        vertical-align: top;\n",
       "    }\n",
       "\n",
       "    .dataframe thead tr th {\n",
       "        text-align: left;\n",
       "    }\n",
       "\n",
       "    .dataframe thead tr:last-of-type th {\n",
       "        text-align: right;\n",
       "    }\n",
       "</style>\n",
       "<table border=\"1\" class=\"dataframe\">\n",
       "  <thead>\n",
       "    <tr>\n",
       "      <th></th>\n",
       "      <th colspan=\"5\" halign=\"left\">points</th>\n",
       "      <th colspan=\"5\" halign=\"left\">price</th>\n",
       "    </tr>\n",
       "    <tr>\n",
       "      <th></th>\n",
       "      <th>mean</th>\n",
       "      <th>median</th>\n",
       "      <th>min</th>\n",
       "      <th>max</th>\n",
       "      <th>count</th>\n",
       "      <th>mean</th>\n",
       "      <th>median</th>\n",
       "      <th>min</th>\n",
       "      <th>max</th>\n",
       "      <th>count</th>\n",
       "    </tr>\n",
       "    <tr>\n",
       "      <th>variety</th>\n",
       "      <th></th>\n",
       "      <th></th>\n",
       "      <th></th>\n",
       "      <th></th>\n",
       "      <th></th>\n",
       "      <th></th>\n",
       "      <th></th>\n",
       "      <th></th>\n",
       "      <th></th>\n",
       "      <th></th>\n",
       "    </tr>\n",
       "  </thead>\n",
       "  <tbody>\n",
       "    <tr>\n",
       "      <th>Abouriou</th>\n",
       "      <td>87.666667</td>\n",
       "      <td>87.0</td>\n",
       "      <td>85</td>\n",
       "      <td>91</td>\n",
       "      <td>3</td>\n",
       "      <td>35.000000</td>\n",
       "      <td>15.0</td>\n",
       "      <td>15.0</td>\n",
       "      <td>75.0</td>\n",
       "      <td>3</td>\n",
       "    </tr>\n",
       "    <tr>\n",
       "      <th>Agiorgitiko</th>\n",
       "      <td>87.031746</td>\n",
       "      <td>87.0</td>\n",
       "      <td>83</td>\n",
       "      <td>92</td>\n",
       "      <td>63</td>\n",
       "      <td>23.571429</td>\n",
       "      <td>20.0</td>\n",
       "      <td>10.0</td>\n",
       "      <td>66.0</td>\n",
       "      <td>63</td>\n",
       "    </tr>\n",
       "    <tr>\n",
       "      <th>Aglianico</th>\n",
       "      <td>89.598870</td>\n",
       "      <td>90.0</td>\n",
       "      <td>81</td>\n",
       "      <td>97</td>\n",
       "      <td>177</td>\n",
       "      <td>39.564972</td>\n",
       "      <td>34.0</td>\n",
       "      <td>6.0</td>\n",
       "      <td>180.0</td>\n",
       "      <td>177</td>\n",
       "    </tr>\n",
       "    <tr>\n",
       "      <th>Aidani</th>\n",
       "      <td>82.000000</td>\n",
       "      <td>82.0</td>\n",
       "      <td>82</td>\n",
       "      <td>82</td>\n",
       "      <td>1</td>\n",
       "      <td>27.000000</td>\n",
       "      <td>27.0</td>\n",
       "      <td>27.0</td>\n",
       "      <td>27.0</td>\n",
       "      <td>1</td>\n",
       "    </tr>\n",
       "    <tr>\n",
       "      <th>Airen</th>\n",
       "      <td>81.666667</td>\n",
       "      <td>82.0</td>\n",
       "      <td>80</td>\n",
       "      <td>83</td>\n",
       "      <td>3</td>\n",
       "      <td>9.000000</td>\n",
       "      <td>9.0</td>\n",
       "      <td>8.0</td>\n",
       "      <td>10.0</td>\n",
       "      <td>3</td>\n",
       "    </tr>\n",
       "    <tr>\n",
       "      <th>...</th>\n",
       "      <td>...</td>\n",
       "      <td>...</td>\n",
       "      <td>...</td>\n",
       "      <td>...</td>\n",
       "      <td>...</td>\n",
       "      <td>...</td>\n",
       "      <td>...</td>\n",
       "      <td>...</td>\n",
       "      <td>...</td>\n",
       "      <td>...</td>\n",
       "    </tr>\n",
       "    <tr>\n",
       "      <th>Zinfandel</th>\n",
       "      <td>88.591746</td>\n",
       "      <td>89.0</td>\n",
       "      <td>80</td>\n",
       "      <td>97</td>\n",
       "      <td>1575</td>\n",
       "      <td>29.844444</td>\n",
       "      <td>28.0</td>\n",
       "      <td>6.0</td>\n",
       "      <td>100.0</td>\n",
       "      <td>1575</td>\n",
       "    </tr>\n",
       "    <tr>\n",
       "      <th>Zlahtina</th>\n",
       "      <td>86.000000</td>\n",
       "      <td>86.0</td>\n",
       "      <td>84</td>\n",
       "      <td>88</td>\n",
       "      <td>2</td>\n",
       "      <td>14.500000</td>\n",
       "      <td>14.5</td>\n",
       "      <td>13.0</td>\n",
       "      <td>16.0</td>\n",
       "      <td>2</td>\n",
       "    </tr>\n",
       "    <tr>\n",
       "      <th>Zweigelt</th>\n",
       "      <td>88.500000</td>\n",
       "      <td>89.0</td>\n",
       "      <td>82</td>\n",
       "      <td>94</td>\n",
       "      <td>182</td>\n",
       "      <td>21.516484</td>\n",
       "      <td>18.0</td>\n",
       "      <td>9.0</td>\n",
       "      <td>70.0</td>\n",
       "      <td>182</td>\n",
       "    </tr>\n",
       "    <tr>\n",
       "      <th>Çalkarası</th>\n",
       "      <td>86.500000</td>\n",
       "      <td>86.5</td>\n",
       "      <td>86</td>\n",
       "      <td>87</td>\n",
       "      <td>2</td>\n",
       "      <td>19.000000</td>\n",
       "      <td>19.0</td>\n",
       "      <td>19.0</td>\n",
       "      <td>19.0</td>\n",
       "      <td>2</td>\n",
       "    </tr>\n",
       "    <tr>\n",
       "      <th>Žilavka</th>\n",
       "      <td>88.000000</td>\n",
       "      <td>88.0</td>\n",
       "      <td>88</td>\n",
       "      <td>88</td>\n",
       "      <td>1</td>\n",
       "      <td>15.000000</td>\n",
       "      <td>15.0</td>\n",
       "      <td>15.0</td>\n",
       "      <td>15.0</td>\n",
       "      <td>1</td>\n",
       "    </tr>\n",
       "  </tbody>\n",
       "</table>\n",
       "<p>653 rows × 10 columns</p>\n",
       "</div>"
      ],
      "text/plain": [
       "                points                           price                      \\\n",
       "                  mean median min max count       mean median   min    max   \n",
       "variety                                                                      \n",
       "Abouriou     87.666667   87.0  85  91     3  35.000000   15.0  15.0   75.0   \n",
       "Agiorgitiko  87.031746   87.0  83  92    63  23.571429   20.0  10.0   66.0   \n",
       "Aglianico    89.598870   90.0  81  97   177  39.564972   34.0   6.0  180.0   \n",
       "Aidani       82.000000   82.0  82  82     1  27.000000   27.0  27.0   27.0   \n",
       "Airen        81.666667   82.0  80  83     3   9.000000    9.0   8.0   10.0   \n",
       "...                ...    ...  ..  ..   ...        ...    ...   ...    ...   \n",
       "Zinfandel    88.591746   89.0  80  97  1575  29.844444   28.0   6.0  100.0   \n",
       "Zlahtina     86.000000   86.0  84  88     2  14.500000   14.5  13.0   16.0   \n",
       "Zweigelt     88.500000   89.0  82  94   182  21.516484   18.0   9.0   70.0   \n",
       "Çalkarası    86.500000   86.5  86  87     2  19.000000   19.0  19.0   19.0   \n",
       "Žilavka      88.000000   88.0  88  88     1  15.000000   15.0  15.0   15.0   \n",
       "\n",
       "                   \n",
       "            count  \n",
       "variety            \n",
       "Abouriou        3  \n",
       "Agiorgitiko    63  \n",
       "Aglianico     177  \n",
       "Aidani          1  \n",
       "Airen           3  \n",
       "...           ...  \n",
       "Zinfandel    1575  \n",
       "Zlahtina        2  \n",
       "Zweigelt      182  \n",
       "Çalkarası       2  \n",
       "Žilavka         1  \n",
       "\n",
       "[653 rows x 10 columns]"
      ]
     },
     "execution_count": 70,
     "metadata": {},
     "output_type": "execute_result"
    }
   ],
   "source": [
    "wineDF[['variety', 'points', 'price']].groupby(\"variety\").agg(['mean', 'median', 'min', 'max','count'])"
   ]
  },
  {
   "cell_type": "code",
   "execution_count": 71,
   "metadata": {},
   "outputs": [],
   "source": [
    "def getKualitas(points):\n",
    "    if(points <= 85):\n",
    "        return 'Buruk'\n",
    "    elif(points<=90 ):\n",
    "        return 'Ok'\n",
    "    elif(points<=95):\n",
    "        return 'Enak'\n",
    "    elif(points<=100):\n",
    "        return 'Sangat Enak'\n",
    "    else:\n",
    "        return 'Cek code lagi! Ada yang salah'"
   ]
  },
  {
   "cell_type": "code",
   "execution_count": 72,
   "metadata": {},
   "outputs": [],
   "source": [
    "wineDF['kualitas'] = wineDF['points'].apply(getKualitas)"
   ]
  },
  {
   "cell_type": "code",
   "execution_count": 73,
   "metadata": {},
   "outputs": [
    {
     "data": {
      "text/plain": [
       "<seaborn.axisgrid.FacetGrid at 0x7f30e4bd6b50>"
      ]
     },
     "execution_count": 73,
     "metadata": {},
     "output_type": "execute_result"
    },
    {
     "data": {
      "image/png": "[encoded data removed]",
      "text/plain": [
       "<Figure size 360x360 with 1 Axes>"
      ]
     },
     "metadata": {},
     "output_type": "display_data"
    }
   ],
   "source": [
    "sns.catplot(x = 'kualitas', y = 'price', data = wineDF)"
   ]
  },
  {
   "cell_type": "code",
   "execution_count": 74,
   "metadata": {},
   "outputs": [
    {
     "data": {
      "image/png": "[encoded data removed]",
      "text/plain": [
       "<Figure size 720x288 with 1 Axes>"
      ]
     },
     "metadata": {},
     "output_type": "display_data"
    }
   ],
   "source": [
    "plt.figure(figsize=(10,4))\n",
    "\n",
    "wineDF.loc[:, 'price_log'] = np.log(wineDF.loc[:, 'price'])\n",
    "\n",
    "g = sns.regplot(x='points', y='price_log', \n",
    "                data=wineDF, line_kws={'color':'red'},\n",
    "                x_jitter=True, fit_reg=True, color='mediumorchid')\n",
    "g.set_title(\"Distribusi Point X Log Harga\", fontsize=20)\n",
    "g.set_xlabel(\"Points\", fontsize= 15)\n",
    "g.set_ylabel(\"Price (log)\", fontsize= 15)\n",
    "\n",
    "plt.show()"
   ]
  },
  {
   "cell_type": "markdown",
   "metadata": {},
   "source": [
    "<div style=\"text-align: justify\">&emsp;&emsp;Lalu, mari kita membuat hipotesis awal. Kira-kira, manakah yang mungkin memiliki korelasi signifikan terhadap harga wine? Untuk itu, kita perlu untuk mengetahuinya menggunakan statsmodel. Mari kita asumsikan bahwa point yang didapat berpengaruh signifikan terhadap harga wine.</div>"
   ]
  },
  {
   "cell_type": "code",
   "execution_count": 75,
   "metadata": {},
   "outputs": [
    {
     "name": "stdout",
     "output_type": "stream",
     "text": [
      "0.4040017582872987\n",
      "0.000\n",
      "Korelasi antara point dengan harga signifikan\n"
     ]
    }
   ],
   "source": [
    "X = wineDF['points']\n",
    "y = wineDF['price']\n",
    "\n",
    "corCoef, pvalue = pearsonr(X, y)\n",
    "print(corCoef)\n",
    "print('%0.3f' % pvalue)\n",
    "\n",
    "if pvalue <= 0.05:\n",
    "    print('Korelasi antara point dengan harga signifikan')\n",
    "else:\n",
    "    print('Korelasi antara point dengan harga tidak signifikan')"
   ]
  },
  {
   "cell_type": "markdown",
   "metadata": {},
   "source": [
    "<div style=\"text-align: justify\">&emsp;&emsp;Berdasarkan teori statistik, dari code diatas dapat disimpulkan bahwa point dan harga memiliki korelasi. Bila harga wine semakin meningkat, maka kemungkinan juga harga akan meningkat. Oleh karena itu, mari kita membuat machine learning untuk memprediksi kualitas wine dari data harga wine.</div>"
   ]
  },
  {
   "cell_type": "code",
   "execution_count": 76,
   "metadata": {},
   "outputs": [
    {
     "name": "stdout",
     "output_type": "stream",
     "text": [
      "64.44 %\n"
     ]
    }
   ],
   "source": [
    "X = wineDF[['price']]\n",
    "y = wineDF['kualitas']\n",
    "\n",
    "X_train, X_test, y_train, y_test = train_test_split(X, y, test_size=0.1, random_state=42)\n",
    "# Train model\n",
    "xgb = XGBClassifier()\n",
    "xgb.fit(X_train, y_train)\n",
    "\n",
    "# Test model\n",
    "y_pred = xgb.predict(X_test)\n",
    "accuracy = accuracy_score(y_test, y_pred)\n",
    "accuracy = accuracy*100\n",
    "print('%0.2f' % accuracy,'%')"
   ]
  },
  {
   "cell_type": "markdown",
   "metadata": {},
   "source": [
    "Mari kita bandingkan actual dengan hasil predictionnya"
   ]
  },
  {
   "cell_type": "code",
   "execution_count": 77,
   "metadata": {},
   "outputs": [
    {
     "data": {
      "text/html": [
       "<div>\n",
       "<style scoped>\n",
       "    .dataframe tbody tr th:only-of-type {\n",
       "        vertical-align: middle;\n",
       "    }\n",
       "\n",
       "    .dataframe tbody tr th {\n",
       "        vertical-align: top;\n",
       "    }\n",
       "\n",
       "    .dataframe thead th {\n",
       "        text-align: right;\n",
       "    }\n",
       "</style>\n",
       "<table border=\"1\" class=\"dataframe\">\n",
       "  <thead>\n",
       "    <tr style=\"text-align: right;\">\n",
       "      <th></th>\n",
       "      <th>actual</th>\n",
       "      <th>prediction</th>\n",
       "    </tr>\n",
       "  </thead>\n",
       "  <tbody>\n",
       "    <tr>\n",
       "      <th>109284</th>\n",
       "      <td>Enak</td>\n",
       "      <td>Enak</td>\n",
       "    </tr>\n",
       "    <tr>\n",
       "      <th>107439</th>\n",
       "      <td>Ok</td>\n",
       "      <td>Enak</td>\n",
       "    </tr>\n",
       "    <tr>\n",
       "      <th>31171</th>\n",
       "      <td>Ok</td>\n",
       "      <td>Ok</td>\n",
       "    </tr>\n",
       "    <tr>\n",
       "      <th>108103</th>\n",
       "      <td>Ok</td>\n",
       "      <td>Ok</td>\n",
       "    </tr>\n",
       "    <tr>\n",
       "      <th>124719</th>\n",
       "      <td>Ok</td>\n",
       "      <td>Ok</td>\n",
       "    </tr>\n",
       "    <tr>\n",
       "      <th>13660</th>\n",
       "      <td>Ok</td>\n",
       "      <td>Ok</td>\n",
       "    </tr>\n",
       "    <tr>\n",
       "      <th>17250</th>\n",
       "      <td>Buruk</td>\n",
       "      <td>Ok</td>\n",
       "    </tr>\n",
       "    <tr>\n",
       "      <th>1833</th>\n",
       "      <td>Buruk</td>\n",
       "      <td>Ok</td>\n",
       "    </tr>\n",
       "    <tr>\n",
       "      <th>49597</th>\n",
       "      <td>Ok</td>\n",
       "      <td>Ok</td>\n",
       "    </tr>\n",
       "    <tr>\n",
       "      <th>59078</th>\n",
       "      <td>Ok</td>\n",
       "      <td>Ok</td>\n",
       "    </tr>\n",
       "  </tbody>\n",
       "</table>\n",
       "</div>"
      ],
      "text/plain": [
       "       actual prediction\n",
       "109284   Enak       Enak\n",
       "107439     Ok       Enak\n",
       "31171      Ok         Ok\n",
       "108103     Ok         Ok\n",
       "124719     Ok         Ok\n",
       "13660      Ok         Ok\n",
       "17250   Buruk         Ok\n",
       "1833    Buruk         Ok\n",
       "49597      Ok         Ok\n",
       "59078      Ok         Ok"
      ]
     },
     "execution_count": 77,
     "metadata": {},
     "output_type": "execute_result"
    }
   ],
   "source": [
    "df = pd.DataFrame({'actual': y_test, 'prediction': y_pred})\n",
    "df.head(10)"
   ]
  },
  {
   "cell_type": "markdown",
   "metadata": {},
   "source": [
    "<h1 align=\"center\">Final Accuracy: 64,44%</h1>\n",
    "<div style=\"text-align: justify\">&emsp;&emsp;Bila dilihat dari tingkat akurasi prediksi, maka dapat disimpulkan bahwa akurasi dari machine learning tersebut masih kurang. Untuk itu, mari kita melihat dari sudut pandang lain. Bagaimana kalau menambah variabel penentu (harga) dengan reviewnya? Apakah akurasinya bisa menjadi lebih bagus? Tapi sebelum itu kita perlu menghilangkan stopwords pada description.</div>"
   ]
  },
  {
   "cell_type": "code",
   "execution_count": 78,
   "metadata": {},
   "outputs": [],
   "source": [
    "X = wineDF[['description', 'price']]\n",
    "stop = set(stopwords.words('english'))\n",
    "extras = ['.', ',', '\"', \"'\", '?', '!', ':', ';', '(', ')', '[', ']', '{', '}', 'cab',\"%\"]\n",
    "stop.update(extras)"
   ]
  },
  {
   "cell_type": "code",
   "execution_count": 79,
   "metadata": {},
   "outputs": [],
   "source": [
    "vect = CountVectorizer(stop_words = stop)\n",
    "X_dtm = vect.fit_transform(X.description)\n",
    "price = X.price.values[:,None]\n",
    "X_dtm = hstack((X_dtm, price))"
   ]
  },
  {
   "cell_type": "code",
   "execution_count": 80,
   "metadata": {},
   "outputs": [
    {
     "name": "stdout",
     "output_type": "stream",
     "text": [
      "(86778, 26288) (9642, 26288) (86778,) (9642,)\n"
     ]
    }
   ],
   "source": [
    "y = wineDF['kualitas']\n",
    "\n",
    "X_train, X_test, y_train, y_test = train_test_split(X_dtm, y, random_state=42, test_size=0.1)\n",
    "print(X_train.shape, X_test.shape, y_train.shape, y_test.shape)"
   ]
  },
  {
   "cell_type": "code",
   "execution_count": 81,
   "metadata": {},
   "outputs": [
    {
     "name": "stdout",
     "output_type": "stream",
     "text": [
      "76.85 %\n"
     ]
    }
   ],
   "source": [
    "lr = LogisticRegression(max_iter=10000)\n",
    "lr.fit(X_train, y_train)\n",
    "\n",
    "y_pred = lr.predict(X_test)\n",
    "accuracy = accuracy_score(y_test, y_pred)\n",
    "accuracy = accuracy*100\n",
    "print('%0.2f' % accuracy,'%')"
   ]
  },
  {
   "cell_type": "code",
   "execution_count": 82,
   "metadata": {},
   "outputs": [
    {
     "data": {
      "text/html": [
       "<div>\n",
       "<style scoped>\n",
       "    .dataframe tbody tr th:only-of-type {\n",
       "        vertical-align: middle;\n",
       "    }\n",
       "\n",
       "    .dataframe tbody tr th {\n",
       "        vertical-align: top;\n",
       "    }\n",
       "\n",
       "    .dataframe thead th {\n",
       "        text-align: right;\n",
       "    }\n",
       "</style>\n",
       "<table border=\"1\" class=\"dataframe\">\n",
       "  <thead>\n",
       "    <tr style=\"text-align: right;\">\n",
       "      <th></th>\n",
       "      <th>actual</th>\n",
       "      <th>prediction</th>\n",
       "    </tr>\n",
       "  </thead>\n",
       "  <tbody>\n",
       "    <tr>\n",
       "      <th>109284</th>\n",
       "      <td>Enak</td>\n",
       "      <td>Ok</td>\n",
       "    </tr>\n",
       "    <tr>\n",
       "      <th>107439</th>\n",
       "      <td>Ok</td>\n",
       "      <td>Ok</td>\n",
       "    </tr>\n",
       "    <tr>\n",
       "      <th>31171</th>\n",
       "      <td>Ok</td>\n",
       "      <td>Ok</td>\n",
       "    </tr>\n",
       "    <tr>\n",
       "      <th>108103</th>\n",
       "      <td>Ok</td>\n",
       "      <td>Ok</td>\n",
       "    </tr>\n",
       "    <tr>\n",
       "      <th>124719</th>\n",
       "      <td>Ok</td>\n",
       "      <td>Ok</td>\n",
       "    </tr>\n",
       "    <tr>\n",
       "      <th>13660</th>\n",
       "      <td>Ok</td>\n",
       "      <td>Ok</td>\n",
       "    </tr>\n",
       "    <tr>\n",
       "      <th>17250</th>\n",
       "      <td>Buruk</td>\n",
       "      <td>Buruk</td>\n",
       "    </tr>\n",
       "    <tr>\n",
       "      <th>1833</th>\n",
       "      <td>Buruk</td>\n",
       "      <td>Buruk</td>\n",
       "    </tr>\n",
       "    <tr>\n",
       "      <th>49597</th>\n",
       "      <td>Ok</td>\n",
       "      <td>Ok</td>\n",
       "    </tr>\n",
       "    <tr>\n",
       "      <th>59078</th>\n",
       "      <td>Ok</td>\n",
       "      <td>Ok</td>\n",
       "    </tr>\n",
       "  </tbody>\n",
       "</table>\n",
       "</div>"
      ],
      "text/plain": [
       "       actual prediction\n",
       "109284   Enak         Ok\n",
       "107439     Ok         Ok\n",
       "31171      Ok         Ok\n",
       "108103     Ok         Ok\n",
       "124719     Ok         Ok\n",
       "13660      Ok         Ok\n",
       "17250   Buruk      Buruk\n",
       "1833    Buruk      Buruk\n",
       "49597      Ok         Ok\n",
       "59078      Ok         Ok"
      ]
     },
     "execution_count": 82,
     "metadata": {},
     "output_type": "execute_result"
    }
   ],
   "source": [
    "df = pd.DataFrame({'actual': y_test, 'prediction': y_pred})\n",
    "df.head(10)"
   ]
  },
  {
   "cell_type": "markdown",
   "metadata": {},
   "source": [
    "<h1 align=\"center\">Final Accuracy: 76,85%</h1>\n",
    "<div style=\"text-align: justify\">&emsp;&emsp;Dari hasil code diatas, dapat kita lihat bahwa hasil train dengan menggunakan data review dan harga dapat menentukan kualitas dari wine dengan lebih baik dengan tingkat akurasi 76.85%. Kesimpulannya adalah untuk memprediksi kualitas dari wine, kita dapat menggunakan review deskriptif dari reviewer dan juga harga wine tersebut, karena memiliki akurasi yang lebih tinggi daripada yang menggunakan harga saja.</div>\n",
    "<h1 align=\"center\">Menyimpan Machine Learning Model</h1>\n",
    "<div style=\"text-align: justify\">&emsp;&emsp;Kita sudah menemukan model machine learning dengan akurasi yang cukup baik. Sekarang, mari kita menyimpan dalam sebuah file</div>"
   ]
  },
  {
   "cell_type": "code",
   "execution_count": 83,
   "metadata": {},
   "outputs": [
    {
     "data": {
      "text/plain": [
       "['MachineLearningModel.pkl']"
      ]
     },
     "execution_count": 83,
     "metadata": {},
     "output_type": "execute_result"
    }
   ],
   "source": [
    "import joblib\n",
    "\n",
    "# save model sebagai pickle dalam file\n",
    "joblib.dump(lr, 'MachineLearningModel.pkl')"
   ]
  }
 ],
 "metadata": {
  "instance_type": "ml.t3.medium",
  "kernelspec": {
   "display_name": "Python 3 (Data Science)",
   "language": "python",
   "name": "python3__SAGEMAKER_INTERNAL__arn:aws:sagemaker:us-east-1:081325390199:image/datascience-1.0"
  },
  "language_info": {
   "codemirror_mode": {
    "name": "ipython",
    "version": 3
   },
   "file_extension": ".py",
   "mimetype": "text/x-python",
   "name": "python",
   "nbconvert_exporter": "python",
   "pygments_lexer": "ipython3",
   "version": "3.7.6"
  }
 },
 "nbformat": 4,
 "nbformat_minor": 4
}
